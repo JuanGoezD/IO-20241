{
  "nbformat": 4,
  "nbformat_minor": 0,
  "metadata": {
    "colab": {
      "provenance": [],
      "authorship_tag": "ABX9TyMXZSXjbN8uN0aX5RVAWy0u",
      "include_colab_link": true
    },
    "kernelspec": {
      "name": "python3",
      "display_name": "Python 3"
    },
    "language_info": {
      "name": "python"
    }
  },
  "cells": [
    {
      "cell_type": "markdown",
      "metadata": {
        "id": "view-in-github",
        "colab_type": "text"
      },
      "source": [
        "<a href=\"https://colab.research.google.com/github/JuanGoezD/IO-20241/blob/main/Taller_3.ipynb\" target=\"_parent\"><img src=\"https://colab.research.google.com/assets/colab-badge.svg\" alt=\"Open In Colab\"/></a>"
      ]
    },
    {
      "cell_type": "markdown",
      "source": [
        "# Problema de la Dieta: Maximización de la Nutrición con un Presupuesto Limitado\n",
        "\n",
        "Supongamos que estamos planeando la dieta de un atleta y queremos maximizar su ingesta nutricional dentro de un presupuesto limitado. Tenemos una lista de alimentos disponibles con sus respectivos costos y contenido nutricional por porción. El objetivo es determinar la cantidad de cada alimento que el atleta debe consumir para satisfacer sus necesidades nutricionales al tiempo que se mantiene dentro del presupuesto establecido.\n",
        "\n",
        "## Variables de decisión:\n",
        "Sea `Carne`, `Leche`, `Frutas`, `Verduras`, `Granos` la cantidad de porciones de los cinco alimentos seleccionados.\n",
        "\n",
        "## Costos de cada Alimento:\n",
        "- Carne: $10 por porción\n",
        "\n",
        "- Leche: $15 por porción\n",
        "\n",
        "- Frutas: $8 por porción\n",
        "\n",
        "- Verduras: $12 por porción\n",
        "\n",
        "- Granos: $7 por porción\n",
        "\n",
        "## Restricciones:\n",
        "1. **Requerimientos nutricionales mínimos:**\n",
        "   - Proteínas: al menos 150g por día.\n",
        "   - Carbohidratos: al menos 200g por día.\n",
        "   - Grasas: al menos 50g por día.\n",
        "   - Fibra: al menos 30g por día.\n",
        "   - Vitaminas: al menos 100% del valor diario recomendado para todas las vitaminas esenciales.\n",
        "   \n",
        "2. **Restricción de presupuesto:**\n",
        "   - El costo total no debe exceder el presupuesto disponible, digamos $150.\n",
        "\n",
        "3. **No negatividad:**\n",
        "   - La cantidad de cada alimento debe ser mayor o igual que cero.\n",
        "\n",
        "## Función Objetivo:\n",
        "Maximizar la ingesta nutricional del atleta, representada por la función objetivo.\n",
        "\n",
        "Este problema puede ser resuelto utilizando técnicas de programación lineal para encontrar la combinación óptima de alimentos que maximiza la ingesta nutricional del atleta dentro de las restricciones de presupuesto y necesidades nutricionales.\n"
      ],
      "metadata": {
        "id": "_IsI5ixtx7LU"
      }
    },
    {
      "cell_type": "code",
      "execution_count": null,
      "metadata": {
        "colab": {
          "base_uri": "https://localhost:8080/"
        },
        "id": "UWJBJu0ex4Va",
        "outputId": "6166f766-4cb9-49b3-fb81-326f12dbe01b"
      },
      "outputs": [
        {
          "output_type": "stream",
          "name": "stdout",
          "text": [
            "Estado del problema: optimal\n",
            "Valor óptimo de la función objetivo: 124.68\n",
            "Cantidad óptima de cada alimento:\n",
            "Carne : 0.0\n",
            "Leche : 1.08\n",
            "Frutas : 0.0\n",
            "Verduras : 6.31\n",
            "Granos : 4.68\n"
          ]
        }
      ],
      "source": [
        "import cvxpy as cvx\n",
        "import numpy as np\n",
        "\n",
        "# Definición de variables de decisión\n",
        "n_alimentos = 5\n",
        "\n",
        "# Definición de los nombres de los alimentos\n",
        "alimentos = ['Carne', 'Leche', 'Frutas', 'Verduras', 'Granos']\n",
        "\n",
        "# Crear un arreglo de variables de decisión\n",
        "x = cvx.Variable((n_alimentos, 1), nonneg = True)\n",
        "\n",
        "# Crear un arreglo con los coeficientes de costo\n",
        "costos = np.array([10, 15, 8, 12, 7])\n",
        "\n",
        "# Definir la matriz de coeficientes técnicos\n",
        "coeficientes_tecnicos = np.array([\n",
        "    [25, 30, 20, 15, 10],  # Proteínas\n",
        "    [40, 50, 30, 25, 20],  # Carbohidratos\n",
        "    [15, 10, 20, 10, 5],   # Grasas\n",
        "    [10, 5, 8, 7, 5],      # Fibra\n",
        "    [2, 5, 8, 15, 0],      # Vitamina A\n",
        "    [5, 10, 2, 3, 15],     # Vitamina B\n",
        "    [1, 8, 20, 30, 5],     # Vitamina C\n",
        "    [3, 20, 0, 5, 10],     # Vitamina D\n",
        "    [0, 2, 5, 10, 8]       # Vitamina E\n",
        "])\n",
        "\n",
        "# Definir el vector de restricciones nutricionales\n",
        "val_restricciones = np.array([150, 200, 50, 30, 100, 100, 100, 100, 100])\n",
        "val_restricciones = val_restricciones.reshape(9,1)\n",
        "\n",
        "# Definir la función objetivo\n",
        "obj = cvx.Minimize(costos @ x)\n",
        "\n",
        "# Definir las restricciones\n",
        "restricciones= [coeficientes_tecnicos @ x >= val_restricciones]\n",
        "restriccion_presupuesto = (costos.T @ x <= 150)\n",
        "\n",
        "restricciones.append(restriccion_presupuesto)\n",
        "\n",
        "# Configurar el problema\n",
        "problema = cvx.Problem(obj, restricciones)\n",
        "\n",
        "# Resolver el problema\n",
        "problema.solve()\n",
        "\n",
        "# Mostrar resultados\n",
        "print(\"Estado del problema:\", problema.status)\n",
        "print(\"Valor óptimo de la función objetivo:\", round(problema.value,2))\n",
        "print(\"Cantidad óptima de cada alimento:\")\n",
        "for i, alimento in enumerate(alimentos):\n",
        "    print(alimento, \":\", round(x.value[i][0],2))"
      ]
    },
    {
      "cell_type": "markdown",
      "source": [
        "### Problema de Mezcla en la Industria de Alimentos Balanceados\n",
        "\n",
        "#### Contexto del Problema\n",
        "Una fábrica de alimentos balanceados para animales está buscando optimizar su proceso de producción para satisfacer las demandas del mercado. La empresa produce alimentos balanceados utilizando cuatro ingredientes principales: maíz, trigo, soja y avena. Cada ingrediente tiene diferentes propiedades nutricionales y costos asociados.\n",
        "\n",
        "#### Restricciones y Consideraciones\n",
        "- La fábrica tiene una capacidad máxima de producción de 100 toneladas de alimento balanceado.\n",
        "- Los clientes han solicitado que el alimento balanceado contenga al menos un 20% de maíz y un 30% de trigo en términos de peso.\n",
        "- La cantidad de avena no debe exceder el 25% del total del alimento balanceado debido a las restricciones de suministro.\n",
        "- El contenido de soja en el alimento balanceado no puede ser superior al 35% debido a consideraciones de salud animal.\n",
        "- Los costos de los ingredientes son los siguientes: $200 por tonelada de maíz, $250 por tonelada de trigo, $300 por tonelada de soja y $150 por tonelada de avena.\n",
        "\n",
        "#### Objetivo\n",
        "Determinar la cantidad de cada ingrediente que la fábrica debe utilizar para minimizar el costo total de producción de 100 toneladas de alimento balanceado, cumpliendo con las restricciones nutricionales y de suministro.\n",
        "\n",
        "#### Variables de Decisión\n",
        "- $ x_1 $: Cantidad de maíz en toneladas.\n",
        "- $ x_2 $: Cantidad de trigo en toneladas.\n",
        "- $ x_3 $: Cantidad de soja en toneladas.\n",
        "- $ x_4 $: Cantidad de avena en toneladas.\n",
        "\n",
        "#### Función Objetivo\n",
        "Minimizar el costo total de producción:\n",
        "$Minimizar$ $200x_1 + 250x_2 + 300x_3 + 150x_4 $\n",
        "\n",
        "#### Restricciones\n",
        "1. Restricción de capacidad de producción:\n",
        "$ x_1 + x_2 + x_3 + x_4 $$= 100 $\n",
        "2. Restricción de contenido mínimo de maíz:\n",
        "$\\frac{x_1}{x_1 + x_2 + x_3 + x_4}$ $\\geq 0.20 $\n",
        "3. Restricción de contenido mínimo de trigo:\n",
        "$\\frac{x_2}{x_1 + x_2 + x_3 + x_4}$ $\\geq 0.30 $\n",
        "4. Restricción de contenido máximo de soja:\n",
        "$\\frac{x_3}{x_1 + x_2 + x_3 + x_4} $$\\leq 0.35$\n",
        "5. Restricción de contenido máximo de avena:\n",
        "$\\frac{x_4}{x_1 + x_2 + x_3 + x_4}$ $\\leq 0.25$\n",
        "6. Restricción de no negatividad:\n",
        "$x_1, x_2, x_3, x_4$ $\\geq 0$\n",
        "\n"
      ],
      "metadata": {
        "id": "eJLGn2IOu67m"
      }
    },
    {
      "cell_type": "code",
      "source": [
        "import cvxpy as cvx\n",
        "import numpy as np\n",
        "\n",
        "# Definición de las variables de decisión\n",
        "x = cvx.Variable((4, 1), nonneg=True)\n",
        "\n",
        "# Array de los coeficientes de costo\n",
        "costos = np.array([200, 250, 300, 150])\n",
        "\n",
        "# Matriz de coeficientes técnicos\n",
        "coeficientes_tecnicos = np.array([\n",
        "    [1, 1, 1, 1], # Cantidad a producir\n",
        "    [1, -0.2, -0.2, -0.2],  # Maíz\n",
        "    [-0.3, 1, -0.3, -0.3],  # Trigo\n",
        "    [-0.35, -0.35, 1, -0.35],  # Soja\n",
        "    [0.25, 0.25, 0.25, 1]   # Avena\n",
        "])\n",
        "\n",
        "b = np.array([100, 0, 0, 0, 0])\n",
        "# Función objetivo\n",
        "obj = cvx.Minimize(costos @ x)\n",
        "\n",
        "# Restricciones\n",
        "restricciones = [\n",
        "    coeficientes_tecnicos[0, :] @ x == b[0],\n",
        "    coeficientes_tecnicos[1:2, :] @ x <= b[1:2],\n",
        "    coeficientes_tecnicos[2:3, :] @ x >= b[2:]\n",
        "]\n",
        "\n",
        "# Configurar el problema\n",
        "problema = cvx.Problem(obj, restricciones)\n",
        "\n",
        "# Resolver el problema\n",
        "problema.solve()\n",
        "\n",
        "# Imprimir resultados\n",
        "print(\"Estado del problema:\", problema.status)\n",
        "print(\"Valor óptimo de la función objetivo:\", round(problema.value, 2))\n",
        "print(\"Cantidad óptima de cada ingrediente:\")\n",
        "for i, ingrediente in enumerate(['Maíz', 'Trigo', 'Soja', 'Avena']):\n",
        "    print(ingrediente, \":\", round(x.value[i][0], 2))\n",
        "\n"
      ],
      "metadata": {
        "colab": {
          "base_uri": "https://localhost:8080/"
        },
        "id": "d7JhLBFq0ZiL",
        "outputId": "2d5d40e5-30bc-42c5-a55d-469f9f4705c9"
      },
      "execution_count": 18,
      "outputs": [
        {
          "output_type": "stream",
          "name": "stdout",
          "text": [
            "Estado del problema: optimal\n",
            "Valor óptimo de la función objetivo: 17307.69\n",
            "Cantidad óptima de cada ingrediente:\n",
            "Maíz : 0.0\n",
            "Trigo : 23.08\n",
            "Soja : 0.0\n",
            "Avena : 76.92\n"
          ]
        }
      ]
    }
  ]
}