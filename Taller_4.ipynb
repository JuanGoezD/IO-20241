{
  "nbformat": 4,
  "nbformat_minor": 0,
  "metadata": {
    "colab": {
      "provenance": [],
      "authorship_tag": "ABX9TyPqeyyFJfXOeMLUBpZD73Uy",
      "include_colab_link": true
    },
    "kernelspec": {
      "name": "python3",
      "display_name": "Python 3"
    },
    "language_info": {
      "name": "python"
    }
  },
  "cells": [
    {
      "cell_type": "markdown",
      "metadata": {
        "id": "view-in-github",
        "colab_type": "text"
      },
      "source": [
        "<a href=\"https://colab.research.google.com/github/JuanGoezD/IO-20241/blob/main/Taller_4.ipynb\" target=\"_parent\"><img src=\"https://colab.research.google.com/assets/colab-badge.svg\" alt=\"Open In Colab\"/></a>"
      ]
    },
    {
      "cell_type": "markdown",
      "source": [
        "# Problema de Transporte de Cerveza en Colombia\n",
        "\n",
        "Una cervecera en Colombia necesita distribuir sus productos desde sus plantas de producción ubicadas en diferentes ciudades a varios centros de distribución en otras ciudades. El objetivo es minimizar los costos de transporte mientras se cumplen las demandas de cada centro de distribución y las capacidades de producción de las plantas.\n",
        "\n",
        "## Ciudades Involucradas\n",
        "\n",
        "- Ciudad 1 (Bogotá)\n",
        "- Ciudad 2 (Medellín)\n",
        "- Ciudad 3 (Cali)\n",
        "- Ciudad 4 (Barranquilla)\n",
        "\n",
        "## Costos de Transporte (en miles de pesos colombianos por unidad de producto)\n",
        "\n",
        "|          | Ciudad 1 | Ciudad 2 | Ciudad 3 | Ciudad 4 |\n",
        "|----------|----------|----------|----------|----------|\n",
        "| Planta 1 (Bogotá)      | 8        | 3        | 6        | 4        |\n",
        "| Planta 2 (Medellín)    | 4        | 6        | 1        | 3        |\n",
        "| Planta 3 (Cali)        | 9        | 6        | 2        | 6        |\n",
        "| Planta 4 (Barranquilla)| 3        | 1        | 4        | 6        |\n",
        "\n",
        "## Demandas de Cerveza en Cada Ciudad\n",
        "\n",
        "- Ciudad 1 (Bogotá): 70 unidades\n",
        "- Ciudad 2 (Medellín): 40 unidades\n",
        "- Ciudad 3 (Cali): 70 unidades\n",
        "- Ciudad 4 (Barranquilla): 35 unidades\n",
        "\n",
        "## Capacidades de Producción de las Plantas\n",
        "\n",
        "- Planta 1 (Bogotá): 80 unidades\n",
        "- Planta 2 (Medellín): 30 unidades\n",
        "- Planta 3 (Cali): 60 unidades\n",
        "- Planta 4 (Barranquilla): 45 unidades\n",
        "\n",
        "Formulemos el problema matemáticamente para determinar la cantidad de cerveza a transportar desde cada planta de producción a cada centro de distribución de manera que se minimicen los costos totales de transporte.\n"
      ],
      "metadata": {
        "id": "obj0Ba1ZZJN_"
      }
    },
    {
      "cell_type": "code",
      "source": [
        "# Importar las librerias requeridas\n",
        "import cvxpy as cvx\n",
        "#Variables decisión\n",
        "x = cvx.Variable((4,4), nonneg=True)\n",
        "\n",
        "# Matriz de costos\n",
        "c= [\n",
        "    [8, 3, 6, 4],\n",
        "    [4, 6, 1, 3],\n",
        "    [9, 6, 2, 6],\n",
        "    [3, 1, 4, 6],\n",
        "]\n",
        "\n",
        "# Función objetivo\n",
        "Z = cvx.Minimize(cvx.sum(cvx.multiply(c,x)))\n",
        "\n",
        "# Restricciones\n",
        "r = [\n",
        "    # De demanda SUMAS COLUMNAS\n",
        "    cvx.sum(x[:,0]) >= 70,\n",
        "    cvx.sum(x[:,1]) >= 40,\n",
        "    cvx.sum(x[:,2]) >= 70,\n",
        "    cvx.sum(x[:,3]) >= 35,\n",
        "\n",
        "    # De oferta SUMAS FILAS\n",
        "    cvx.sum(x[0,:]) <= 80,\n",
        "    cvx.sum(x[1,:]) <= 30,\n",
        "    cvx.sum(x[2,:]) <= 60,\n",
        "    cvx.sum(x[3,:]) <= 45\n",
        "]\n",
        "\n",
        "# configurar el problema\n",
        "P = cvx.Problem(Z,r)\n",
        "\n",
        "# resolver\n",
        "P.solve()\n",
        "\n",
        "# Imrpimir\n",
        "print(P.status)\n",
        "print('costo=', round(P.value))\n",
        "print(x.value.round(0))"
      ],
      "metadata": {
        "colab": {
          "base_uri": "https://localhost:8080/"
        },
        "id": "jbe8wN93YOWB",
        "outputId": "da2206ae-fa7c-4a5f-a62b-3b639ebad5d2"
      },
      "execution_count": null,
      "outputs": [
        {
          "output_type": "stream",
          "name": "stdout",
          "text": [
            "optimal\n",
            "costo= 710\n",
            "[[ 0. 40.  5. 35.]\n",
            " [30.  0.  0.  0.]\n",
            " [ 0.  0. 60.  0.]\n",
            " [40.  0.  5.  0.]]\n"
          ]
        }
      ]
    },
    {
      "cell_type": "markdown",
      "source": [
        "# Problema de Programación de Producción e Inventario para Boralis\n",
        "\n",
        "Boralis fabrica mochilas para ciclistas. Durante el período pico de marzo a junio de cada año, la demanda de su producto es la siguiente: 100 unidades en marzo, 200 unidades en abril, 180 unidades en mayo y 300 unidades en junio. La compañía utiliza mano de obra de tiempo parcial para acomodarse a las fluctuaciones de la demanda. Se estima que Boralis puede producir 50, 180, 280 y 270 unidades en marzo, abril, mayo y junio, respectivamente.\n",
        "\n",
        "La demanda del mes en curso puede satisfacerse de tres maneras:\n",
        "\n",
        "1. La producción del mes en curso al costo de $398 por mochila.\n",
        "\n",
        "2. La producción excedente de un mes anterior a un costo de retención adicional de $20 por mochila.\n",
        "\n",
        "3. La producción excedente en un mes posterior (pedido en espera) a un costo de penalización adicional de $50 por mochila por mes.\n",
        "\n",
        "Boralis desea determinar el programa de producción óptimo durante los cuatro meses.\n",
        "\n",
        "La siguiente tabla resume los paralelismos entre los elementos del problema de producción e inventario y el modelo de transporte:\n",
        "\n",
        "| Elemento del Problema | Modelo de Transporte |\n",
        "|-----------------------|----------------------|\n",
        "| Meses                 | Centros de Distribución |\n",
        "| Producción            | Oferta de Plantas     |\n",
        "| Demanda               | Demanda de Ciudades   |\n",
        "| Producción excedente  | Pedidos en Espera     |\n",
        "\n",
        "**Formulación del Problema:**\n",
        "\n",
        "- **Variables de Decisión:**\n",
        "  - $( x_{ij} )$: Cantidad de mochilas producidas en el mes $( i )$ y mandadas a producir en el mes $( j )$.\n",
        "\n",
        "- **Función Objetivo:**\n",
        "  Minimizar el costo total, dado por la suma de los productos de los costos de producción y las cantidades producidas:\n",
        "  \\begin{align*}\n",
        "  \\text{Minimizar } Z = \\sum_{i=1}^{4} \\sum_{j=1}^{4} c_{ij} \\cdot x_{ij}\n",
        "  \\end{align*}\n",
        "  donde $( c_{ij} $) es el costo de producir una mochila en el mes $( i )$ mandada a producir en el mes $( j )$.\n",
        "\n",
        "- **Restricciones:**\n",
        "  1. Demanda: La cantidad de mochilas utilizadas en cada mes debe satisfacer la demanda de ese mes.\n",
        "     \\\n",
        "     \\begin{align*}\n",
        "     \\sum_{i=1}^{4} x_{i1} &\\geq 100 \\quad \\text{(marzo)} \\\\\n",
        "     \\sum_{i=1}^{4} x_{i2} &\\geq 200 \\quad \\text{(abril)} \\\\\n",
        "     \\sum_{i=1}^{4} x_{i3} &\\geq 180 \\quad \\text{(mayo)} \\\\\n",
        "     \\sum_{i=1}^{4} x_{i4} &\\geq 300 \\quad \\text{(junio)}\n",
        "     \\end{align*}\n",
        "     \n",
        "  2. Oferta: La cantidad de mochilas producidas en cada mes no debe exceder la capacidad de producción de ese mes.\n",
        "     \\\n",
        "     \\begin{align*}\n",
        "     \\sum_{j=1}^{4} x_{1j} &\\leq 50 \\quad \\text{(marzo)} \\\\\n",
        "     \\sum_{j=1}^{4} x_{2j} &\\leq 180 \\quad \\text{(abril)} \\\\\n",
        "     \\sum_{j=1}^{4} x_{3j} &\\leq 280 \\quad \\text{(mayo)} \\\\\n",
        "     \\sum_{j=1}^{4} x_{4j} &\\leq 270 \\quad \\text{(junio)}\n",
        "     \\end{align*}\n",
        "     \n",
        "\n",
        "El problema se puede resolver utilizando técnicas de programación lineal para determinar el programa de producción óptimo durante los cuatro meses, minimizando así los costos totales de producción y almacenamiento.\n"
      ],
      "metadata": {
        "id": "DSe-ffvDPpKC"
      }
    },
    {
      "cell_type": "code",
      "source": [
        "import cvxpy as cvx\n",
        "\n",
        "# Variables de decisión\n",
        "x = cvx.Variable((4, 4), nonneg=True)\n",
        "\n",
        "# Coeficientes de costos\n",
        "c = [\n",
        "    [398, 418, 438, 458],\n",
        "    [448, 398, 418, 438],\n",
        "    [498, 448, 398, 418],\n",
        "    [548, 498, 448, 398],\n",
        "]\n",
        "\n",
        "# Funcion objetivo\n",
        "Z = cvx.Minimize(cvx.sum(cvx.multiply(c, x)))\n",
        "\n",
        "# Restricciones\n",
        "r = [\n",
        "    # Demanda\n",
        "    cvx.sum(x[0, :]) >= 100,  # Marzo\n",
        "    cvx.sum(x[1, :]) >= 200,  # Abril\n",
        "    cvx.sum(x[2, :]) >= 180,  # Mayo\n",
        "    cvx.sum(x[3, :]) >= 300,  # Junio\n",
        "\n",
        "    # Oferta\n",
        "    cvx.sum(x[:, 0]) <= 50,  # Marzo\n",
        "    cvx.sum(x[:, 1]) <= 180,  # Abril\n",
        "    cvx.sum(x[:, 2]) <= 280,  # Mayo\n",
        "    cvx.sum(x[:, 3]) <= 270,  # Junio\n",
        "]\n",
        "\n",
        "# Configurar el problema\n",
        "P = cvx.Problem(Z, r)\n",
        "\n",
        "# Resolver\n",
        "P.solve()\n",
        "\n",
        "# Imprimir\n",
        "print(P.status)\n",
        "print('Costo total:', round(P.value))\n",
        "print('Cantidad de mochilas producidas:\\n', x.value.round(0))"
      ],
      "metadata": {
        "colab": {
          "base_uri": "https://localhost:8080/"
        },
        "id": "LjTfH5IkSxq5",
        "outputId": "3595a4c5-5c16-4dc1-ecec-d52130a53f98"
      },
      "execution_count": 5,
      "outputs": [
        {
          "output_type": "stream",
          "name": "stdout",
          "text": [
            "optimal\n",
            "Costo total: 317040\n",
            "Cantidad de mochilas producidas:\n",
            " [[ 50.  27.  23.   0.]\n",
            " [  0. 153.  47.   0.]\n",
            " [  0.   0. 180.   0.]\n",
            " [  0.   0.  30. 270.]]\n"
          ]
        }
      ]
    }
  ]
}
