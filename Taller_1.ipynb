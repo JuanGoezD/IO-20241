{
  "nbformat": 4,
  "nbformat_minor": 0,
  "metadata": {
    "colab": {
      "provenance": [],
      "authorship_tag": "ABX9TyOL1RST8zN5pIfsUzkxNoqy",
      "include_colab_link": true
    },
    "kernelspec": {
      "name": "python3",
      "display_name": "Python 3"
    },
    "language_info": {
      "name": "python"
    }
  },
  "cells": [
    {
      "cell_type": "markdown",
      "metadata": {
        "id": "view-in-github",
        "colab_type": "text"
      },
      "source": [
        "<a href=\"https://colab.research.google.com/github/JuanGoezD/IO-20241/blob/main/Taller_1.ipynb\" target=\"_parent\"><img src=\"https://colab.research.google.com/assets/colab-badge.svg\" alt=\"Open In Colab\"/></a>"
      ]
    },
    {
      "cell_type": "markdown",
      "source": [
        "# Taller 1\n",
        "\n",
        "En este taller se tratarán los conceptos de ingreso y salida de datos, además de condicionales y ciclos for.\n",
        "\n",
        "Si desea, puede consultar información adicional sobre python en los siguientes enlaces:\n",
        "\n",
        "* [Learn python 3](https://www.codecademy.com/learn/learn-python-3)\n",
        "* [Python tutorial](https://www.w3schools.com/python/)\n",
        "\n",
        "Además, en la realización de este taller se utilizó bastante la guía de los talleres 01, 02 y 03 del profesor Gabriel Awad. Se recomienda revisarlos en el siguiente enlace:\n",
        "* [Talleres profesor Awad](https://github.com/gabrielawad/talleresGoogleColab)\n"
      ],
      "metadata": {
        "id": "XaG6q0beBtfb"
      }
    },
    {
      "cell_type": "markdown",
      "source": [
        "# Ingreso y salida de datos\n",
        "\n",
        "Cuando interactuamos con un programa de computadora, a menudo necesitamos decirle algo o pedirle información. Imagina que estás hablando con un amigo: tú le dices algo y él te responde. De manera similar, cuando escribimos un programa en Python, necesitamos una forma de comunicarnos con el computador.\n",
        "\n",
        "## Salida de Datos\n",
        "Una vez que nuestro programa ha hecho algún cálculo o procesamiento, es útil mostrar los resultados al usuario. Para hacer esto, usamos la función print(). Esta función toma la información que queremos mostrar y la imprime en la pantalla del computador. Por ejemplo, si nuestro programa calcula el promedio de edad del grupo, podemos usar print() para mostrar este resultado de vuelta al usuario.\n",
        "\n",
        "## Ingreso de datos\n",
        "La función input() en Python nos permite pedirle al usuario que ingrese información. Por ejemplo, si estamos haciendo un programa para calcular la edad promedio de un grupo de personas, necesitamos que el usuario nos diga cuántas personas hay y cuántos años tiene cada una. Con input(), podemos solicitar esta información y almacenarla en variables para que el programa pueda usarla más adelante. Es importante mencionar que la función input() almacena la información como si fuera una cadena de texto, pero esto se puede modificar para realizar operaciones matemáticas."
      ],
      "metadata": {
        "id": "xrCVMH1sDtr7"
      }
    },
    {
      "cell_type": "code",
      "execution_count": null,
      "metadata": {
        "colab": {
          "base_uri": "https://localhost:8080/"
        },
        "id": "gTIR5MFiBNAt",
        "outputId": "6bec031d-aa3c-4a82-a9c0-126859fe814a"
      },
      "outputs": [
        {
          "output_type": "stream",
          "name": "stdout",
          "text": [
            "Por favor, ingresa tu nombre: Carlos\n",
            "Ahora, por favor ingresa tu edad: 55\n",
            "Hola, Carlos\n",
            "Tienes 55 años.\n"
          ]
        }
      ],
      "source": [
        "# Pedimos al usuario que ingrese su nombre\n",
        "nombre = input(\"Por favor, ingresa tu nombre: \")\n",
        "\n",
        "# Pedimos al usuario que ingrese su edad\n",
        "edad = input(\"Ahora, por favor ingresa tu edad: \")\n",
        "\n",
        "# Imprimimos un mensaje personalizado con el nombre y la edad del usuario\n",
        "print(\"Hola,\", nombre)\n",
        "print(\"Tienes\", edad, \"años.\")"
      ]
    },
    {
      "cell_type": "markdown",
      "source": [
        "## Más sobre la función input.\n",
        "\n",
        "Como se mencionó anteriormente, la función input() devuelve una variable tipo cadena de texto (también llamado string), pero a veces necesitaremos trabajar con variables de tipo entero o de tipo real. Para realizar esto, usamos otras funciones que transformen las cadenas de texto a un entero o real. Veamos un ejemplo."
      ],
      "metadata": {
        "id": "y9RzEQEmGeJM"
      }
    },
    {
      "cell_type": "code",
      "source": [
        "# Pedimos al usuario que ingrese su edad\n",
        "edad = input(\"Hola, ingresa tu edad: \")\n",
        "\n",
        "# Transformamos la edad de cadena de texto a una edad en entero\n",
        "edad_entero = int(edad)\n",
        "\n",
        "# Transformamos la edad de cadena de texto a una edad en real\n",
        "edad_num_real = float(edad)\n",
        "\n",
        "# Imprimimos los tres tipos de edades para notar su diferencia\n",
        "print(\"Edad en cadena de texto: \", edad)\n",
        "print(\"Edad en variable tipo entero: \", edad_entero)\n",
        "print(\"Edad en variable tipo real: \", edad_num_real)\n",
        "\n",
        "# Miremos la importancia del tipo de variable, vamos a sumarle 5 años a la edad\n",
        "# Por curiosidad, borrar el comentario de la siguiente linea\n",
        "# edad = edad + 5\n",
        "edad_entero = edad_entero + 5\n",
        "edad_num_real = edad_num_real + 5\n",
        "\n",
        "# Imprimimos los resultados para visualizar los cambios en la edad\n",
        "# Por curiosidad, borrar el comentario de la siguiente linea\n",
        "# print(\"Edad más cinco años en cadena de texto: \", edad)\n",
        "print(\"Edad más cinco años en variable tipo entero: \", edad_entero)\n",
        "print(\"Edad más cinco años en variable tipo real: \", edad_num_real)"
      ],
      "metadata": {
        "colab": {
          "base_uri": "https://localhost:8080/"
        },
        "id": "4SNItUGsIqiU",
        "outputId": "755ca4f2-2e58-4ed4-ff1d-dc018f502cd0"
      },
      "execution_count": null,
      "outputs": [
        {
          "output_type": "stream",
          "name": "stdout",
          "text": [
            "Hola, ingresa tu edad: 25\n",
            "Edad en cadena de texto:  25\n",
            "Edad en variable tipo entero:  25\n",
            "Edad en variable tipo real:  25.0\n",
            "Edad más cinco años en variable tipo entero:  30\n",
            "Edad más cinco años en variable tipo real:  30.0\n"
          ]
        }
      ]
    },
    {
      "cell_type": "markdown",
      "source": [
        "## Más sobre la función print.\n",
        "\n",
        "Para imprimir la información en pantalla, tenemos varias formas de hacerlo. Miremos al detalle cada una de ellas"
      ],
      "metadata": {
        "id": "Jtxl7EbRKx0e"
      }
    },
    {
      "cell_type": "markdown",
      "source": [
        "### Manera 1: % s"
      ],
      "metadata": {
        "id": "K8F_Gpf0LoXV"
      }
    },
    {
      "cell_type": "code",
      "source": [
        "# Código para calcular el área de un círculo\n",
        "\n",
        "# Definición del valor del radio\n",
        "radio = 3\n",
        "\n",
        "# Cálculo del área del círculo.\n",
        "area = 3.1416 * radio * radio\n",
        "\n",
        "# Impresión del resultado en diferentes formatos\n",
        "print(\"El área del círculo es %s.\" % (area))\n",
        "\n",
        "# Se puede controlar la cantidad de decimales que mostramos por pantalla\n",
        "print(\"El área del círculo es %.2f.\" % (area))\n",
        "\n",
        "# Depende del orden en como se usa el %s es como aparece la información\n",
        "print(\"El área del círculo con radio %s es %.2f.\" % (radio, area))\n",
        "\n",
        "print(\"El área del círculo con radio %.2f es %.2f.\" % (radio, area))"
      ],
      "metadata": {
        "colab": {
          "base_uri": "https://localhost:8080/"
        },
        "id": "z2y3DcV2K3Kl",
        "outputId": "3a4b396f-fa65-49a8-94bb-503b5f33eb3f"
      },
      "execution_count": null,
      "outputs": [
        {
          "output_type": "stream",
          "name": "stdout",
          "text": [
            "El área del círculo es 28.2744.\n",
            "El área del círculo es 28.27.\n",
            "El área del círculo con radio 3 es 28.27.\n",
            "El área del círculo con radio 3.00 es 28.27.\n"
          ]
        }
      ]
    },
    {
      "cell_type": "markdown",
      "source": [
        "### Manera 2: .format()"
      ],
      "metadata": {
        "id": "CUo_nwKGM-o9"
      }
    },
    {
      "cell_type": "code",
      "source": [
        "# Código para calcular el área de un círculo\n",
        "\n",
        "# Definición del valor del radio\n",
        "radio = 3\n",
        "\n",
        "# Cálculo del área del círculo.\n",
        "area = 3.1416 * radio * radio\n",
        "\n",
        "# Impresión del resultado en diferentes formatos utilizando .format()\n",
        "print(\"El área del círculo es {}.\".format(area))\n",
        "\n",
        "# Se puede controlar la cantidad de decimales que mostramos por pantalla\n",
        "print(\"El área del círculo es {:.2f}.\".format(area))\n",
        "\n",
        "# Depende del orden en como se usa el {} es como aparece la información\n",
        "print(\"El área del círculo con radio {} es {:.2f}.\".format(radio, area))\n",
        "\n",
        "print(\"El área del círculo con radio {:.2f} es {:.2f}.\".format(radio, area))"
      ],
      "metadata": {
        "colab": {
          "base_uri": "https://localhost:8080/"
        },
        "id": "geHsZIIqNP00",
        "outputId": "95ee3aa4-668a-4f54-a906-3cf0485b4d4f"
      },
      "execution_count": null,
      "outputs": [
        {
          "output_type": "stream",
          "name": "stdout",
          "text": [
            "El área del círculo es 28.2744.\n",
            "El área del círculo es 28.27.\n",
            "El área del círculo con radio 3 es 28.27.\n",
            "El área del círculo con radio 3.00 es 28.27.\n"
          ]
        }
      ]
    },
    {
      "cell_type": "markdown",
      "source": [
        "### Manera 3: f strings\n"
      ],
      "metadata": {
        "id": "D4LQVOJ-Nm7X"
      }
    },
    {
      "cell_type": "code",
      "source": [
        "# Código para calcular el área de un círculo\n",
        "\n",
        "# Definición del valor del radio\n",
        "radio = 3\n",
        "\n",
        "# Cálculo del área del círculo.\n",
        "area = 3.1416 * radio * radio\n",
        "\n",
        "# Impresión del resultado en diferentes formatos utilizando f-strings\n",
        "print(f\"El área del círculo es {area}.\")\n",
        "\n",
        "# Se puede controlar la cantidad de decimales que mostramos por pantalla\n",
        "print(f\"El área del círculo es {area:.2f}.\")\n",
        "\n",
        "# Depende del orden en cómo se usan las variables en el f-string\n",
        "# es como aparece la información\n",
        "print(f\"El área del círculo con radio {radio} es {area:.2f}.\")\n",
        "\n",
        "print(f\"El área del círculo con radio {radio:.2f} es {area:.2f}.\")"
      ],
      "metadata": {
        "colab": {
          "base_uri": "https://localhost:8080/"
        },
        "id": "ns-f7nfGNzVV",
        "outputId": "57d514cb-b5ec-4e92-ac8c-8aafcc472ed8"
      },
      "execution_count": null,
      "outputs": [
        {
          "output_type": "stream",
          "name": "stdout",
          "text": [
            "El área del círculo es 28.2744.\n",
            "El área del círculo es 28.27.\n",
            "El área del círculo con radio 3 es 28.27.\n",
            "El área del círculo con radio 3.00 es 28.27.\n"
          ]
        }
      ]
    },
    {
      "cell_type": "markdown",
      "source": [
        "# Condicionales\n",
        "Imagina que estás siguiendo las instrucciones para hacer un pastel. Antes de ponerlo en el horno, revisas si ya está mezclado. Si lo está, lo pones en el molde; si no, sigues mezclando. En la programación, estas decisiones basadas en condiciones son como las indicaciones que seguimos para hacer un pastel. Los condicionales en Python nos permiten tomar decisiones dentro de nuestro código, controlando cómo se ejecutan diferentes partes del programa.\n",
        "\n",
        "Los condicionales nos permiten controlar el flujo de nuestro programa. Por ejemplo, si queremos que nuestro programa haga algo solo si se cumple cierta condición, utilizamos una estructura condicional como un \"if\". Si queremos que haga algo diferente si esa condición no se cumple, podemos usar un \"else\". Y si queremos evaluar múltiples condiciones, usamos \"elif\". Todo esto nos permite escribir programas más complejos que pueden adaptarse y tomar diferentes caminos según lo que necesitemos.\n",
        "\n",
        "Antes de entrar a profundidad, veremos operadores (de comparación, lógicos, de membresía y de identidad) que nos ayudarán a revisar las comparaciones necesarias para que nuestros programas sigan las rutas correspondientes.\n",
        "\n"
      ],
      "metadata": {
        "id": "kjRZYFMAUCCe"
      }
    },
    {
      "cell_type": "markdown",
      "source": [
        "## Operadores de comparación\n",
        "\n",
        "En Python, hay seis operadores para comparar expresiones:\n",
        "\n",
        "- `>`: Operador de **Estrictamente mayor**. Se utiliza dentro de expresiones lógicas como `(X > 3)`.\n",
        "- `>=`: Operador de **Mayor o igual**. Se utiliza dentro de expresiones lógicas como `(X >= 3)`.\n",
        "- `<`: Operador de **Estrictamente menor**. Se utiliza dentro de expresiones lógicas como `(X < 3)`.\n",
        "- `<=`: Operador de **Menor o igual**. Se utiliza dentro de expresiones lógicas como `(X <= 3)`.\n",
        "- `==`: Operador de **Igual**. Retorna `True` cuando los dos valores comparados son idénticos.\n",
        "- `!=`: Operador de **Diferente**. Retorna `True` cuando los dos valores no son idénticos.\n",
        "\n",
        "Estos operadores son fundamentales para realizar comparaciones en Python y para controlar el flujo del programa mediante estructuras condicionales."
      ],
      "metadata": {
        "id": "H5hMYQAMVnMG"
      }
    },
    {
      "cell_type": "code",
      "source": [
        "# Ejecute estas instrucciones y observe el resultado obtenido\n",
        "\n",
        "x = 4\n",
        "y = 3\n",
        "z = x * y\n",
        "\n",
        "# Comparaciones\n",
        "\n",
        "print(\"¿Es\", x, \"mayor que\", y, \"?\")\n",
        "print(x > y)\n",
        "\n",
        "print(\"¿Es\", x, \"mayor que 4?\")\n",
        "print(x > 4)\n",
        "\n",
        "print(\"¿Es\", x, \"mayor o igual a 4?\")\n",
        "print(x >= 4)\n",
        "\n",
        "print(\"¿Es\", y, \"menor que\", x, \"?\")\n",
        "print(y < x)\n",
        "\n",
        "print(\"¿Es\", y, \"igual a 3?\")\n",
        "print(y == 3)\n",
        "\n",
        "print(\"¿Es\", y, \"igual a\", z, \"?\")\n",
        "print(y == z)\n",
        "\n",
        "print(\"¿Es\", x, \"diferente de\", y, \"?\")\n",
        "print(x != y)"
      ],
      "metadata": {
        "colab": {
          "base_uri": "https://localhost:8080/"
        },
        "id": "eF3avipkOTrN",
        "outputId": "1ff0a5e3-4a74-455b-8a23-ab6d6e8493d1"
      },
      "execution_count": null,
      "outputs": [
        {
          "output_type": "stream",
          "name": "stdout",
          "text": [
            "¿Es 4 mayor que 3 ?\n",
            "True\n",
            "¿Es 4 mayor que 4?\n",
            "False\n",
            "¿Es 4 mayor o igual a 4?\n",
            "True\n",
            "¿Es 3 menor que 4 ?\n",
            "True\n",
            "¿Es 3 igual a 3?\n",
            "True\n",
            "¿Es 3 igual a 12 ?\n",
            "False\n",
            "¿Es 4 diferente de 3 ?\n",
            "True\n"
          ]
        }
      ]
    },
    {
      "cell_type": "markdown",
      "source": [
        "## Operadores para Expresiones Lógicas Compuestas\n",
        "\n",
        "En Python, hay dos operadores para calcular expresiones lógicas compuestas:\n",
        "\n",
        "- **or:** Retorna `True` si cualquiera de las dos expresiones A o B es verdadera. Sólo retorna `False` cuando ambas son falsas.\n",
        "\n",
        "- **and:** Retorna `True` cuando ambas expresiones A y B son verdaderas.\n",
        "\n",
        "## Operador para Negar una Expresión Lógica\n",
        "\n",
        "Además, hay un operador para cambiar o \"negar\" el valor de verdad de una expresión:\n",
        "\n",
        "- **not:** Retorna `True` cuando el valor de la expresión lógica que acompaña daría `False`.\n"
      ],
      "metadata": {
        "id": "-S6unqgBWibO"
      }
    },
    {
      "cell_type": "code",
      "source": [
        "# Ejecute estas instrucciones y observe el resultado obtenido\n",
        "\n",
        "x = 10\n",
        "y  = 20\n",
        "z = x + y\n",
        "\n",
        "#Expresiones compuestas\n",
        "\n",
        "print(\"¿Es\",x, \"mayor que\", y, \"y menor que\", z,\"?\")\n",
        "print(x > y and x < z)\n",
        "\n",
        "\n",
        "print(\"¿Es\",x, \"igual a 4 y\", y, \"es mayor o igual a\", z,\"?\")\n",
        "print(x == 4 and y >= z)\n",
        "\n",
        "\n",
        "print(\"¿\",x, \"es diferente de 4 ó\",y,\"es menor que\", x,\"?\")\n",
        "print(x != 4 or y < x)\n",
        "\n",
        "\n",
        "print(\"¿Es\",x, \"menor que\", y,\"ó es \",x,\"mayor o igual a\", z,\"?\")\n",
        "print(x < y or x >= z)\n",
        "\n",
        "\n",
        "#Negaciones\n",
        "\n",
        "print(x, \"es mayor que\",y)\n",
        "print(x > y)\n",
        "\n",
        "print(x, \"NO es mayor que\",y)\n",
        "print( not (x > y) )"
      ],
      "metadata": {
        "colab": {
          "base_uri": "https://localhost:8080/"
        },
        "id": "nXwFYRItWz6o",
        "outputId": "6f15f598-ffcf-488b-bdd9-74622b3b8d6c"
      },
      "execution_count": null,
      "outputs": [
        {
          "output_type": "stream",
          "name": "stdout",
          "text": [
            "¿Es 10 mayor que 20 y menor que 30 ?\n",
            "False\n",
            "¿Es 10 igual a 4 y 20 es mayor o igual a 30 ?\n",
            "False\n",
            "¿ 10 es diferente de 4 ó 20 es menor que 10 ?\n",
            "True\n",
            "¿Es 10 menor que 20 ó es  10 mayor o igual a 30 ?\n",
            "True\n",
            "10 es mayor que 20\n",
            "False\n",
            "10 NO es mayor que 20\n",
            "True\n"
          ]
        }
      ]
    },
    {
      "cell_type": "markdown",
      "source": [
        "## Operadores de Membresía\n",
        "\n",
        "En Python, hay dos operadores para verificar la presencia de un elemento dentro de un objeto (Lista, Diccionario, Tupla, etc):\n",
        "\n",
        "- **in:** Retorna `True` si el elemento se encuentra en el objeto y retorna `False` si el elemento no se encuentra en el objeto.\n",
        "\n",
        "- **not in:** Retorna `True` si el elemento no se encuentra en el objeto y retorna `False` si el elemento sí se encuentra en el objeto.\n"
      ],
      "metadata": {
        "id": "LFWe0udXXoqR"
      }
    },
    {
      "cell_type": "code",
      "source": [
        "# Ejecute estas instrucciones y observe el resultado obtenido\n",
        "\n",
        "lista = [\"casa\", \"mesa\", \"silla\"]\n",
        "\n",
        "# Verificaciones de membresía\n",
        "\n",
        "print(f\"¿Está la palabra casa en la lista?: {'casa' in lista} \")\n",
        "\n",
        "print(f\"¿Está la palabra hueco en la lista?: {'hueco' in lista} \")\n",
        "\n",
        "\n",
        "print(f\"¿No está la palabra casa en la lista?: {'casa' not in lista} \")\n",
        "\n",
        "print(f\"¿No está la palabra hueco en la lista?: {'hueco' not in lista} \")"
      ],
      "metadata": {
        "colab": {
          "base_uri": "https://localhost:8080/"
        },
        "id": "ojZdQfhOYBS_",
        "outputId": "5216ef1f-ee93-452b-941d-b164f673a081"
      },
      "execution_count": null,
      "outputs": [
        {
          "output_type": "stream",
          "name": "stdout",
          "text": [
            "¿Está la palabra casa en la lista?: True \n",
            "¿Está la palabra hueco en la lista?: False \n",
            "¿No está la palabra casa en la lista?: False \n",
            "¿No está la palabra hueco en la lista?: True \n"
          ]
        }
      ]
    },
    {
      "cell_type": "markdown",
      "source": [
        "## Operadores de Identidad\n",
        "\n",
        "En Python, hay dos operadores para verificar si dos objetos son el mismo objeto:\n",
        "\n",
        "- **is:** Retorna un valor verdadero (`True`) si los dos objetos son el mismo objeto y retorna falso (`False`) si los objetos son diferentes.\n",
        "\n",
        "- **is not:** Retorna un valor verdadero (`True`) si los objetos son diferentes y retorna falso (`False`) si los objetos son el mismo objeto.\n"
      ],
      "metadata": {
        "id": "TdGz2DQnYOuK"
      }
    },
    {
      "cell_type": "code",
      "source": [
        "# Ejecute estas instrucciones y observe el resultado obtenido\n",
        "\n",
        "lista00 = [\"casa\", \"mesa\", \"silla\"]\n",
        "\n",
        "lista01 = [\"casa\", \"mesa\", \"silla\"]\n",
        "\n",
        "lista02 = lista00\n",
        "\n",
        "# Verificaciones de membresía\n",
        "\n",
        "print(f\"¿Es lista00 el mismo objeto que lista01?: {lista00 is lista01} \")\n",
        "\n",
        "print(f\"¿Es lista00 el mismo objeto que lista02?: {lista00 is lista02} \")\n",
        "\n",
        "print(f\"¿Es lista00 un objeto diferente que lista01?: {lista00 is not lista01} \")\n",
        "\n",
        "print(f\"¿Es lista00 un objeto diferente que lista02?: {lista00 is not lista02} \")"
      ],
      "metadata": {
        "colab": {
          "base_uri": "https://localhost:8080/"
        },
        "id": "Q__LU2ldYUQf",
        "outputId": "8c0fec25-6a5a-46f2-8716-e276950c9fc1"
      },
      "execution_count": null,
      "outputs": [
        {
          "output_type": "stream",
          "name": "stdout",
          "text": [
            "¿Es lista00 el mismo objeto que lista01?: False \n",
            "¿Es lista00 el mismo objeto que lista02?: True \n",
            "¿Es lista00 un objeto diferente que lista01?: True \n",
            "¿Es lista00 un objeto diferente que lista02?: False \n"
          ]
        }
      ]
    },
    {
      "cell_type": "markdown",
      "source": [
        "# Ahora sí, condicionales\n",
        "\n",
        "Los operadores condicionales son como los árbitros de un partido de fútbol: evalúan la situación y deciden qué jugada hacer a continuación. En Python, estos operadores son como los árbitros de la lógica en tu código. Aquí te presento tres de ellos:\n",
        "\n",
        "1. **if (expresión lógica):**\n",
        "   Este es el árbitro principal. Si la expresión lógica es verdadera, permite que cierto código se ejecute. Es como decir \"si esto es cierto, entonces haz lo siguiente...\". Todo lo que se indique con un TAB dentro del bloque del if se ejecutará si la expresión lógica es True. No olvides añadir \":\" después de la expresión lógica.\n",
        "\n",
        "2. **elif (otra expresión):**\n",
        "   Este es como un árbitro asistente. Si el árbitro principal (el if) falla en su decisión, este entra en acción. Es como decir \"si no es lo primero, pero es esto, entonces haz aquello...\". Se usa cuando la primera condición no se cumple, pero otra sí. Recuerda que este va de la mano con un bloque if. Si el if es válido, este ni siquiera entra en juego.\n",
        "\n",
        "3. **else:**\n",
        "   Este es el último recurso, el árbitro que toma la decisión final. Si ninguno de los árbitros anteriores ha marcado la jugada, este se activa. Es como decir \"si no ha ocurrido ninguna de las cosas anteriores, entonces haz esto...\". Siempre acompaña a un bloque if, pero no necesita de asistentes (elif) previos.\n",
        "\n"
      ],
      "metadata": {
        "id": "Hn-SCxMHlliP"
      }
    },
    {
      "cell_type": "code",
      "source": [
        "# Solicitar al usuario que ingrese su nota\n",
        "nota = int(input(\"Ingresa tu nota: \"))\n",
        "\n",
        "# Evaluar la nota e asignar la calificación correspondiente\n",
        "if nota >= 90:\n",
        "# Si la nota es mayor o igual a 90, la calificación es A\n",
        "    calificacion = \"A\"\n",
        "elif nota >= 80:\n",
        "# Si la nota es mayor o igual a 80, pero menor que 90, la calificación es B\n",
        "    calificacion = \"B\"\n",
        "elif nota >= 70:\n",
        "# Si la nota es mayor o igual a 70, pero menor que 80, la calificación es C\n",
        "    calificacion = \"C\"\n",
        "elif nota >= 60:\n",
        "# Si la nota es mayor o igual a 60, pero menor que 70, la calificación es D\n",
        "    calificacion = \"D\"\n",
        "else:\n",
        "# Si la nota es menor que 60, la calificación es F\n",
        "    calificacion = \"F\"\n",
        "\n",
        "# Imprimir la calificación obtenida\n",
        "print(\"Tu calificación es:\", calificacion)"
      ],
      "metadata": {
        "colab": {
          "base_uri": "https://localhost:8080/"
        },
        "id": "ligKEqw_m-UQ",
        "outputId": "eb413b69-0956-4c45-ffa3-6a8e579374df"
      },
      "execution_count": null,
      "outputs": [
        {
          "output_type": "stream",
          "name": "stdout",
          "text": [
            "Ingresa tu nota: 4\n",
            "Tu calificación es: F\n"
          ]
        }
      ]
    },
    {
      "cell_type": "code",
      "source": [
        "# Lista de colores disponibles\n",
        "colores_disponibles = [\"rojo\", \"verde\", \"azul\", \"amarillo\", \"negro\"]\n",
        "\n",
        "# Solicitar al usuario que ingrese un color\n",
        "color_elegido = input(\"Ingresa un color: \")\n",
        "\n",
        "# Verificar si el color elegido está en la lista de colores disponibles\n",
        "if color_elegido in colores_disponibles:\n",
        "    print(\"¡El color\", color_elegido, \"está disponible!\")\n",
        "else:\n",
        "    print(\"Lo siento, el color\", color_elegido, \"no está disponible.\")"
      ],
      "metadata": {
        "id": "S8OWokIrs79A",
        "outputId": "55765f08-774d-4c5a-c212-66acefa13898",
        "colab": {
          "base_uri": "https://localhost:8080/"
        }
      },
      "execution_count": null,
      "outputs": [
        {
          "output_type": "stream",
          "name": "stdout",
          "text": [
            "Ingresa un color: Rojo\n",
            "Lo siento, el color Rojo no está disponible.\n"
          ]
        }
      ]
    },
    {
      "cell_type": "markdown",
      "source": [
        "# Condicionales anidados\n",
        "\n",
        "Dentro de los condicionale se puede tener cualquier cantidad de código, incluso más condicionales. **Hay que tener cuidado con los niveles de identacion** ya que esto es lo que hace entender a python que un condicional va dentro de otro.\n",
        "\n",
        "También es importante tener en cuenta que el uso de los condicionales anidados es debido a que previamente hay más código y acciones adicionales. No es buena práctica tener condicionales anidados que se pueden combinar usando operadores lógicas."
      ],
      "metadata": {
        "id": "3WkbeyiOtDKR"
      }
    },
    {
      "cell_type": "code",
      "source": [
        "# Este programa determina el grupo de edad basado en la edad proporcionada\n",
        "\n",
        "# Obtener la edad del usuario como un entero\n",
        "edad = int(input(\"Ingrese su edad: \"))\n",
        "# Comprobar si la edad es válida (no negativa)\n",
        "if edad >= 0:\n",
        "    # Comprobar si la edad es de 18 años o más (adulto)\n",
        "    if edad >= 18:\n",
        "        print(\"Usted es un adulto.\")\n",
        "    # De lo contrario, comprobar si la edad es de 13 años o más (adolescente)\n",
        "    elif edad >= 13:\n",
        "        print(\"Usted es un adolescente.\")\n",
        "    # De lo contrario, la persona es un niño\n",
        "    else:\n",
        "        print(\"Usted es un niño.\")\n",
        "# Si la edad no es válida, imprimir un mensaje de error\n",
        "else:\n",
        "    print(\"Edad no válida. Por favor, introduzca un valor positivo.\")"
      ],
      "metadata": {
        "id": "0QOQD2vRwOrB",
        "outputId": "4cf83664-9d38-457d-e83a-89f34888fcf8",
        "colab": {
          "base_uri": "https://localhost:8080/"
        }
      },
      "execution_count": null,
      "outputs": [
        {
          "output_type": "stream",
          "name": "stdout",
          "text": [
            "Ingrese su edad: 25\n",
            "Usted es un adulto.\n"
          ]
        }
      ]
    },
    {
      "cell_type": "code",
      "source": [
        "# Este programa calcula la calificación final y la nota de un alumno\n",
        "\n",
        "# Solicitar las notas del alumno\n",
        "nota_1 = int(input(\"Ingrese la nota 1: \"))\n",
        "nota_2 = int(input(\"Ingrese la nota 2: \"))\n",
        "nota_3 = int(input(\"Ingrese la nota 3: \"))\n",
        "\n",
        "# Calcular el total y promedio de las notas\n",
        "total_notas = nota_1 + nota_2 + nota_3\n",
        "promedio = total_notas / 3.0  # Se usa promedio en lugar de average\n",
        "\n",
        "# Mostrar el total y promedio de las notas\n",
        "print(f\"Total de notas: {total_notas}\")\n",
        "# Se formatea el promedio a dos decimales\n",
        "print(f\"Promedio: {promedio:.2f}\")\n",
        "\n",
        "# Determinar el resultado (aprobado o reprobado)\n",
        "if nota_1 >= 35 and nota_2 >= 35 and nota_3 >= 35:\n",
        "    print(\"Resultado: Aprobado\")\n",
        "    # Evaluar la nota para determinar la calificación\n",
        "    if promedio >= 90 and promedio <= 100:\n",
        "        print(\"Calificación: A\")\n",
        "    elif promedio >= 80 and promedio <= 89:\n",
        "        print(\"Calificación: B\")\n",
        "    elif promedio >= 70 and promedio <= 79:\n",
        "        print(\"Calificación: C\")\n",
        "    else:\n",
        "        print(\"Calificación: D\")\n",
        "else:\n",
        "    print(\"Resultado: Reprobado\")\n",
        "    print(\"Calificación: Sin calificación\")"
      ],
      "metadata": {
        "colab": {
          "base_uri": "https://localhost:8080/"
        },
        "id": "c6Y347oi2Uw7",
        "outputId": "a4ae029a-e9e9-4ce4-b39c-ba3c072e2303"
      },
      "execution_count": null,
      "outputs": [
        {
          "output_type": "stream",
          "name": "stdout",
          "text": [
            "Ingrese la nota 1: 1\n",
            "Ingrese la nota 2: 8\n",
            "Ingrese la nota 3: 9\n",
            "Total de notas: 18\n",
            "Promedio: 6.00\n",
            "Resultado: Reprobado\n",
            "Calificación: Sin calificación\n"
          ]
        }
      ]
    },
    {
      "cell_type": "markdown",
      "source": [
        "# Ciclo for\n",
        "\n",
        "En ciertas ocasiones, se requiere que un programa haga de manera repetitiva ciertas operaciones. Por ejemplo, si se quiere mostrar los números del 1 al 100 en pantalla no vamos a escribir 100 veces la instrucción print() más el número. Para estos y otros casos el ciclo for es bastante útil."
      ],
      "metadata": {
        "id": "zkEKVuqN3kna"
      }
    },
    {
      "cell_type": "code",
      "source": [
        "inicio = 0\n",
        "fin = 10\n",
        "incremento = 1\n",
        "\n",
        "for i in range(inicio, fin, incremento):\n",
        "  print(i)\n",
        "\n",
        "print(\"Este código no hace parte del ciclo\")"
      ],
      "metadata": {
        "id": "hX8b84953kHj",
        "outputId": "44e28eb5-4f14-4142-b326-3436720ac182",
        "colab": {
          "base_uri": "https://localhost:8080/"
        }
      },
      "execution_count": null,
      "outputs": [
        {
          "output_type": "stream",
          "name": "stdout",
          "text": [
            "0\n",
            "1\n",
            "2\n",
            "3\n",
            "4\n",
            "5\n",
            "6\n",
            "7\n",
            "8\n",
            "9\n",
            "Este código no hace parte del ciclo\n"
          ]
        }
      ]
    },
    {
      "cell_type": "markdown",
      "source": [
        "## Explicación\n",
        "La función range() es bastante utilizada para definir las iteraciones de un ciclo for, aquí se encuentran explicados sus argumentos, además de la variable **i** que no hace parte del de la función pero también es un nombre muy utilizado.\n",
        "\n",
        "- **i:** Variable que servirá para contar las iteraciones del ciclo `for`. En este caso, es una especie de contador.\n",
        "- **inicio:** El valor inicial que se le dará a la variable `i`. Si se omite, se asume que tiene un valor de 0.\n",
        "- **fin:** El valor final que puede tomar la variable contador. El ciclo `for` dejará de ejecutarse cuando el contador iguale o supere este valor.\n",
        "- **incremento:** Variable que indica de cuánto en cuánto aumentará el valor del contador. Si toma un valor negativo, el contador irá disminuyendo. Si no se asigna un valor, se asume que el contador aumenta de uno en uno."
      ],
      "metadata": {
        "id": "YDnkhoZC6qNr"
      }
    },
    {
      "cell_type": "markdown",
      "source": [
        "El ciclo for, además se utiliza bastante para recorrer elementos en una lista, veamos cómo lo hace:"
      ],
      "metadata": {
        "id": "WdN0heqZ7lv8"
      }
    },
    {
      "cell_type": "code",
      "source": [
        "estudiante1 = [4.0, 4.2, 3.9]\n",
        "\n",
        "# Aquí la variable i tomará el valor de cada elemento de la lista\n",
        "for i in estudiante1:\n",
        "    print(i)"
      ],
      "metadata": {
        "id": "r-XQ5sfF7wHD",
        "outputId": "8ce13774-5c2f-47a2-ac7c-0ad011a95d4b",
        "colab": {
          "base_uri": "https://localhost:8080/"
        }
      },
      "execution_count": null,
      "outputs": [
        {
          "output_type": "stream",
          "name": "stdout",
          "text": [
            "4.0\n",
            "4.2\n",
            "3.9\n"
          ]
        }
      ]
    },
    {
      "cell_type": "markdown",
      "source": [
        "## Uso de `continue`, `break` y `else` en un ciclo `for`\n",
        "\n",
        "En Python, además del ciclo `for` estándar, se pueden utilizar las siguientes palabras clave para controlar el flujo de ejecución dentro del ciclo:\n",
        "\n",
        "- **`continue`:** Se utiliza cuando se desea interrumpir la iteración actual del ciclo `for` y saltar a la siguiente iteración.\n",
        "\n",
        "- **`break`:** Se utiliza cuando se desea romper completamente el ciclo `for` y dejar de realizar las iteraciones por completo.\n",
        "\n",
        "- **`else`:** Se utiliza al final del ciclo, como \"una última instrucción\", cuando el ciclo ha completado todas las iteraciones y ya no se encuentra en el rango (o lista) especificado. Sin embargo, cabe destacar que esta parte `else` no se ejecutará si se utiliza un `break` para salir del ciclo prematuramente.\n",
        "\n",
        "Estas palabras clave proporcionan un mayor control sobre el flujo de ejecución dentro de los ciclos `for` en Python, permitiendo realizar acciones específicas en función de ciertas condiciones durante la iteración.\n"
      ],
      "metadata": {
        "id": "ytcQ74pK9Qab"
      }
    },
    {
      "cell_type": "code",
      "source": [
        "# Ejemplo 1: Usando continue para omitir números pares\n",
        "numeros = list(range(1, 11))\n",
        "\n",
        "for numero in numeros:\n",
        "    if numero % 2 == 0:\n",
        "        continue\n",
        "    print(f\"Número impar: {numero}\")\n",
        "print(\"--------------------------------------------------------------------\")\n",
        "# Ejemplo 2: Usando break para salir del ciclo al encontrar un número divisible por 5\n",
        "for numero in numeros:\n",
        "    if numero % 5 == 0:\n",
        "        print(f\"Número divisible por 5 encontrado: {numero}\")\n",
        "        break\n",
        "    print(f\"Número: {numero}\")\n",
        "print(\"--------------------------------------------------------------------\")\n",
        "# Ejemplo 3: Usando else para ejecutar un bloque de código al finalizar el ciclo\n",
        "for numero in numeros:\n",
        "    print(f\"Número: {numero}\")\n",
        "else:\n",
        "    print(\"Se ha recorrido la lista completa de números\")"
      ],
      "metadata": {
        "colab": {
          "base_uri": "https://localhost:8080/"
        },
        "id": "BVp6ZApf9P4b",
        "outputId": "12ffa133-9e33-4dc3-f61e-8ce157a11243"
      },
      "execution_count": null,
      "outputs": [
        {
          "output_type": "stream",
          "name": "stdout",
          "text": [
            "Número impar: 1\n",
            "Número impar: 3\n",
            "Número impar: 5\n",
            "Número impar: 7\n",
            "Número impar: 9\n",
            "--------------------------------------------------------------------\n",
            "Número: 1\n",
            "Número: 2\n",
            "Número: 3\n",
            "Número: 4\n",
            "Número divisible por 5 encontrado: 5\n",
            "--------------------------------------------------------------------\n",
            "Número: 1\n",
            "Número: 2\n",
            "Número: 3\n",
            "Número: 4\n",
            "Número: 5\n",
            "Número: 6\n",
            "Número: 7\n",
            "Número: 8\n",
            "Número: 9\n",
            "Número: 10\n",
            "Se ha recorrido la lista completa de números\n"
          ]
        }
      ]
    },
    {
      "cell_type": "markdown",
      "source": [
        "## Contadores y acumuladores\n",
        "Un contador es una variable que se utiliza para contar la cantidad de veces que algo ocurre.\n",
        "\n",
        "Los acumuladores, por otra parte, se utilizan para guardar una variable e irla modificando en el tiempo, generalmente por medio de una suma o un producto.\n",
        "\n"
      ],
      "metadata": {
        "id": "vp8QdJpj90Pc"
      }
    },
    {
      "cell_type": "code",
      "source": [
        "# Ejemplo 1: Contando la cantidad de números pares e impares en una lista\n",
        "\n",
        "numeros = list(range(1, 11))\n",
        "\n",
        "# Contador de números pares\n",
        "contador_pares = 0\n",
        "\n",
        "# Contador de números impares\n",
        "contador_impares = 0\n",
        "\n",
        "for numero in numeros:\n",
        "    if numero % 2 == 0:\n",
        "        contador_pares += 1\n",
        "    else:\n",
        "        contador_impares += 1\n",
        "\n",
        "print(f\"Cantidad de números pares: {contador_pares}\")\n",
        "print(f\"Cantidad de números impares: {contador_impares}\")\n",
        "\n",
        "# Ejemplo 2: Sumando los números pares e impares en una lista\n",
        "\n",
        "suma_pares = 0\n",
        "suma_impares = 0\n",
        "\n",
        "for numero in numeros:\n",
        "    if numero % 2 == 0:\n",
        "        suma_pares += numero\n",
        "    else:\n",
        "        suma_impares += numero\n",
        "\n",
        "print(f\"Suma de números pares: {suma_pares}\")\n",
        "print(f\"Suma de números impares: {suma_impares}\")"
      ],
      "metadata": {
        "colab": {
          "base_uri": "https://localhost:8080/"
        },
        "id": "eNh9eNGg-Sjr",
        "outputId": "db0a1944-c8c0-434f-f354-d7de74cec0d0"
      },
      "execution_count": null,
      "outputs": [
        {
          "output_type": "stream",
          "name": "stdout",
          "text": [
            "Cantidad de números pares: 5\n",
            "Cantidad de números impares: 5\n",
            "Suma de números pares: 30\n",
            "Suma de números impares: 25\n"
          ]
        }
      ]
    },
    {
      "cell_type": "markdown",
      "source": [
        "## Iteracion anidada\n",
        "Hay casos en los que se requiere realizar una iteración dentro de otra. Por ejemplo, se desea conocer la nota que obtuvo cada estudiante en una lista de estudiantes."
      ],
      "metadata": {
        "id": "yQEPIrAu-gt9"
      }
    },
    {
      "cell_type": "code",
      "source": [
        "# Ejecute estas instrucciones y observe el resultado obtenido\n",
        "\n",
        "estudiante1 = [\"Andres\", 3.0]\n",
        "estudiante2 = [\"Sara\", 4.2]\n",
        "estudiante3 = [\"Daniela\", 2.8]\n",
        "\n",
        "lista_estudiantes = [estudiante1, estudiante2, estudiante3]\n",
        "\n",
        "for estudiante in lista_estudiantes:\n",
        "    for atributo in estudiante:\n",
        "        print(atributo)\n",
        "    print(\"====\")"
      ],
      "metadata": {
        "colab": {
          "base_uri": "https://localhost:8080/"
        },
        "id": "HJDH88YY-o8-",
        "outputId": "38060357-6ae0-470f-a752-a6d0dd8e407d"
      },
      "execution_count": null,
      "outputs": [
        {
          "output_type": "stream",
          "name": "stdout",
          "text": [
            "Andres\n",
            "3.0\n",
            "====\n",
            "Sara\n",
            "4.2\n",
            "====\n",
            "Daniela\n",
            "2.8\n",
            "====\n"
          ]
        }
      ]
    }
  ]
}